{
 "cells": [
  {
   "cell_type": "code",
   "execution_count": 23,
   "metadata": {
    "ExecuteTime": {
     "end_time": "2020-09-23T07:54:12.782239Z",
     "start_time": "2020-09-23T07:54:12.768995Z"
    }
   },
   "outputs": [
    {
     "data": {
      "text/html": [
       "<style>\n",
       "    div#notebook-container    { width: 95%; }\n",
       "    div#menubar-container     { width: 65%; }\n",
       "    div#maintoolbar-container { width: 99%; }\n",
       "</style>\n",
       "\n",
       "Scloud = 30000*8\n",
       "λ = 0.1\n",
       "D = 60\n",
       "I = np.array([10,20,30])\n",
       "Sedge = 10000*8\n",
       "R = 2\n",
       "C = 1000*8\n",
       "N = 1000\n",
       "PeWr = 6.3\n",
       "PeRe = 2.8\n",
       "PcRe = 8.0\n",
       "PeId = 1.5\n",
       "PcId = 4.5\n",
       "\n",
       "\n",
       "\n"
      ],
      "text/plain": [
       "<IPython.core.display.HTML object>"
      ]
     },
     "metadata": {},
     "output_type": "display_data"
    }
   ],
   "source": [
    "%%HTML\n",
    "<style>\n",
    "    div#notebook-container    { width: 95%; }\n",
    "    div#menubar-container     { width: 65%; }\n",
    "    div#maintoolbar-container { width: 99%; }\n",
    "</style>\n",
    "\n",
    "Scl = 30000*8\n",
    "λ = 0.1\n",
    "D = 60\n",
    "I = np.array([10,20,30])\n",
    "Sed = 10000*8\n",
    "R = 2.0\n",
    "N = 1000\n",
    "\n",
    "Pedwr = 6.3\n",
    "Pedre = 2.8\n",
    "Pedid = 1.5\n",
    "Pclre = 8.0\n",
    "Pclid = 4.5\n",
    "\n",
    "NumOfIntro = I/λ\n",
    "NumOfRemain = (D-I)/λ\n",
    "\n",
    "Sremain = S-I*R*N\n",
    "\n",
    "p = (Sremain) / (N*R*(D-I)) \n",
    "\n",
    "Sintro = I*R*N\n",
    "\n",
    "for i in range(1,N+1):# reciprocal(x)]\n",
    "    popular.append(i)\n",
    "print(popular)\n",
    "\n",
    "#C = Pedre*NumOfIntro* Sintro/Sed + Pedre*NumOfRemain*\n",
    "\n"
   ]
  },
  {
   "cell_type": "code",
   "execution_count": null,
   "metadata": {},
   "outputs": [],
   "source": []
  },
  {
   "cell_type": "code",
   "execution_count": null,
   "metadata": {},
   "outputs": [],
   "source": []
  },
  {
   "cell_type": "code",
   "execution_count": null,
   "metadata": {},
   "outputs": [],
   "source": []
  }
 ],
 "metadata": {
  "kernelspec": {
   "display_name": "Python 3",
   "language": "python",
   "name": "python3"
  },
  "language_info": {
   "codemirror_mode": {
    "name": "ipython",
    "version": 3
   },
   "file_extension": ".py",
   "mimetype": "text/x-python",
   "name": "python",
   "nbconvert_exporter": "python",
   "pygments_lexer": "ipython3",
   "version": "3.7.3"
  },
  "varInspector": {
   "cols": {
    "lenName": 16,
    "lenType": 16,
    "lenVar": 40
   },
   "kernels_config": {
    "python": {
     "delete_cmd_postfix": "",
     "delete_cmd_prefix": "del ",
     "library": "var_list.py",
     "varRefreshCmd": "print(var_dic_list())"
    },
    "r": {
     "delete_cmd_postfix": ") ",
     "delete_cmd_prefix": "rm(",
     "library": "var_list.r",
     "varRefreshCmd": "cat(var_dic_list()) "
    }
   },
   "types_to_exclude": [
    "module",
    "function",
    "builtin_function_or_method",
    "instance",
    "_Feature"
   ],
   "window_display": false
  }
 },
 "nbformat": 4,
 "nbformat_minor": 2
}
